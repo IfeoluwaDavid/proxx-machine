{
 "cells": [
  {
   "cell_type": "code",
   "execution_count": 4,
   "metadata": {},
   "outputs": [
    {
     "name": "stdout",
     "output_type": "stream",
     "text": [
      "Enter line number: 8792\n",
      "8792,0,4,0,0,0,0,6,0,1,1,1,0,0,1,0,0.0,0.0,6.0,0.5,0,1,0,2.0,2.0,2.0,3\n",
      "\n"
     ]
    }
   ],
   "source": [
    "import traceback\n",
    "\n",
    "try:\n",
    "\n",
    "    str = input(\"Enter line number: \")\n",
    "\n",
    "    with open(\"train_features_and_labels.csv\") as f:\n",
    "        lines = f.readlines()\n",
    "\n",
    "    print(lines[int(str)+1])\n",
    "        \n",
    "except Exception:\n",
    "\n",
    "    print(\"Error found - \"+str(traceback.format_exc()))"
   ]
  },
  {
   "cell_type": "code",
   "execution_count": null,
   "metadata": {},
   "outputs": [],
   "source": []
  }
 ],
 "metadata": {
  "kernelspec": {
   "display_name": "Python 3",
   "language": "python",
   "name": "python3"
  },
  "language_info": {
   "codemirror_mode": {
    "name": "ipython",
    "version": 3
   },
   "file_extension": ".py",
   "mimetype": "text/x-python",
   "name": "python",
   "nbconvert_exporter": "python",
   "pygments_lexer": "ipython3",
   "version": "3.7.1"
  }
 },
 "nbformat": 4,
 "nbformat_minor": 2
}
